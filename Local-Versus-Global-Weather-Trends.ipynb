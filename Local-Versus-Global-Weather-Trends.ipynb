{
 "cells": [
  {
   "cell_type": "markdown",
   "metadata": {},
   "source": [
    "# Seattle and Global Weather Trend Analysis"
   ]
  },
  {
   "cell_type": "markdown",
   "metadata": {},
   "source": [
    "## Import Packages "
   ]
  },
  {
   "cell_type": "code",
   "execution_count": 1,
   "metadata": {},
   "outputs": [],
   "source": [
    "import pandas as pd\n",
    "import matplotlib.pyplot as plt\n",
    "\n",
    "# Make sure that the plots will be visible in the notebook\n",
    "\n",
    "%matplotlib inline"
   ]
  },
  {
   "cell_type": "markdown",
   "metadata": {},
   "source": [
    "---"
   ]
  },
  {
   "cell_type": "markdown",
   "metadata": {},
   "source": [
    "### SQL Queries"
   ]
  },
  {
   "cell_type": "markdown",
   "metadata": {},
   "source": [
    "##### Query 1 \n",
    "\n",
    "<code> SQL\n",
    "\n",
    "    SELECT *\n",
    "    FROM   city_data\n",
    "    WHERE  city like 'Seattle';\n",
    "</code>\n",
    "\n",
    "\n",
    "##### Query 2\n",
    "\n",
    "<code> SQL \n",
    "    \n",
    "    SELECT *\n",
    "    FROM   global_data;\n",
    "</code>"
   ]
  },
  {
   "cell_type": "markdown",
   "metadata": {},
   "source": [
    "### Preparing the Data "
   ]
  },
  {
   "cell_type": "code",
   "execution_count": 2,
   "metadata": {},
   "outputs": [],
   "source": [
    "# Load the CSVs into a dataframe\n",
    "\n",
    "\n",
    "# Global Data CSV\n",
    "global_df = pd.read_csv('global-data-trends.csv')\n",
    "\n",
    "# Seattle Data CSV\n",
    "seattle_df = pd.read_csv('seattle-weather-trends.csv')"
   ]
  },
  {
   "cell_type": "code",
   "execution_count": 3,
   "metadata": {},
   "outputs": [
    {
     "data": {
      "text/html": [
       "<div>\n",
       "<style scoped>\n",
       "    .dataframe tbody tr th:only-of-type {\n",
       "        vertical-align: middle;\n",
       "    }\n",
       "\n",
       "    .dataframe tbody tr th {\n",
       "        vertical-align: top;\n",
       "    }\n",
       "\n",
       "    .dataframe thead th {\n",
       "        text-align: right;\n",
       "    }\n",
       "</style>\n",
       "<table border=\"1\" class=\"dataframe\">\n",
       "  <thead>\n",
       "    <tr style=\"text-align: right;\">\n",
       "      <th></th>\n",
       "      <th>year</th>\n",
       "      <th>city</th>\n",
       "      <th>country</th>\n",
       "      <th>avg_temp</th>\n",
       "    </tr>\n",
       "  </thead>\n",
       "  <tbody>\n",
       "    <tr>\n",
       "      <th>0</th>\n",
       "      <td>1828</td>\n",
       "      <td>Seattle</td>\n",
       "      <td>United States</td>\n",
       "      <td>7.13</td>\n",
       "    </tr>\n",
       "    <tr>\n",
       "      <th>1</th>\n",
       "      <td>1829</td>\n",
       "      <td>Seattle</td>\n",
       "      <td>United States</td>\n",
       "      <td>6.80</td>\n",
       "    </tr>\n",
       "    <tr>\n",
       "      <th>2</th>\n",
       "      <td>1830</td>\n",
       "      <td>Seattle</td>\n",
       "      <td>United States</td>\n",
       "      <td>NaN</td>\n",
       "    </tr>\n",
       "    <tr>\n",
       "      <th>3</th>\n",
       "      <td>1831</td>\n",
       "      <td>Seattle</td>\n",
       "      <td>United States</td>\n",
       "      <td>NaN</td>\n",
       "    </tr>\n",
       "    <tr>\n",
       "      <th>4</th>\n",
       "      <td>1832</td>\n",
       "      <td>Seattle</td>\n",
       "      <td>United States</td>\n",
       "      <td>3.52</td>\n",
       "    </tr>\n",
       "    <tr>\n",
       "      <th>...</th>\n",
       "      <td>...</td>\n",
       "      <td>...</td>\n",
       "      <td>...</td>\n",
       "      <td>...</td>\n",
       "    </tr>\n",
       "    <tr>\n",
       "      <th>181</th>\n",
       "      <td>2009</td>\n",
       "      <td>Seattle</td>\n",
       "      <td>United States</td>\n",
       "      <td>8.02</td>\n",
       "    </tr>\n",
       "    <tr>\n",
       "      <th>182</th>\n",
       "      <td>2010</td>\n",
       "      <td>Seattle</td>\n",
       "      <td>United States</td>\n",
       "      <td>8.25</td>\n",
       "    </tr>\n",
       "    <tr>\n",
       "      <th>183</th>\n",
       "      <td>2011</td>\n",
       "      <td>Seattle</td>\n",
       "      <td>United States</td>\n",
       "      <td>7.35</td>\n",
       "    </tr>\n",
       "    <tr>\n",
       "      <th>184</th>\n",
       "      <td>2012</td>\n",
       "      <td>Seattle</td>\n",
       "      <td>United States</td>\n",
       "      <td>8.08</td>\n",
       "    </tr>\n",
       "    <tr>\n",
       "      <th>185</th>\n",
       "      <td>2013</td>\n",
       "      <td>Seattle</td>\n",
       "      <td>United States</td>\n",
       "      <td>9.95</td>\n",
       "    </tr>\n",
       "  </tbody>\n",
       "</table>\n",
       "<p>186 rows × 4 columns</p>\n",
       "</div>"
      ],
      "text/plain": [
       "     year     city        country  avg_temp\n",
       "0    1828  Seattle  United States      7.13\n",
       "1    1829  Seattle  United States      6.80\n",
       "2    1830  Seattle  United States       NaN\n",
       "3    1831  Seattle  United States       NaN\n",
       "4    1832  Seattle  United States      3.52\n",
       "..    ...      ...            ...       ...\n",
       "181  2009  Seattle  United States      8.02\n",
       "182  2010  Seattle  United States      8.25\n",
       "183  2011  Seattle  United States      7.35\n",
       "184  2012  Seattle  United States      8.08\n",
       "185  2013  Seattle  United States      9.95\n",
       "\n",
       "[186 rows x 4 columns]"
      ]
     },
     "execution_count": 3,
     "metadata": {},
     "output_type": "execute_result"
    }
   ],
   "source": [
    "seattle_df"
   ]
  },
  {
   "cell_type": "code",
   "execution_count": 4,
   "metadata": {},
   "outputs": [],
   "source": [
    "# Changing the columns to make analysis and plotting simpler \n",
    "\n",
    "\n",
    "\n",
    "################\n",
    "##SEATTLE##\n",
    "################\n",
    "\n",
    "seattle_df = seattle_df.drop(['country', 'city'], axis=1)\n",
    "\n",
    "seattle_df.columns = ['year', 'seattle_temp']\n",
    "\n",
    "\n",
    "################\n",
    "##Global##\n",
    "################\n",
    "\n",
    "global_df.columns = ['year', 'global_temp']"
   ]
  },
  {
   "cell_type": "markdown",
   "metadata": {},
   "source": [
    "Merge the dataframes into 1"
   ]
  },
  {
   "cell_type": "code",
   "execution_count": 5,
   "metadata": {},
   "outputs": [],
   "source": [
    "merged_df = pd.merge(left=global_df, \n",
    "                     right=seattle_df, \n",
    "                     left_on='year', \n",
    "                     right_on='year')\n",
    "\n",
    "# Variables for the the first line graph \n",
    "year = merged_df['year']                  # X-Axis Variable  \n",
    "\n",
    "seattle_temp = merged_df['seattle_temp']  # Y-Avis Variable \n",
    "global_temp = merged_df['global_temp']    # Y-Axis Variable"
   ]
  },
  {
   "cell_type": "code",
   "execution_count": 6,
   "metadata": {},
   "outputs": [
    {
     "data": {
      "text/html": [
       "<div>\n",
       "<style scoped>\n",
       "    .dataframe tbody tr th:only-of-type {\n",
       "        vertical-align: middle;\n",
       "    }\n",
       "\n",
       "    .dataframe tbody tr th {\n",
       "        vertical-align: top;\n",
       "    }\n",
       "\n",
       "    .dataframe thead th {\n",
       "        text-align: right;\n",
       "    }\n",
       "</style>\n",
       "<table border=\"1\" class=\"dataframe\">\n",
       "  <thead>\n",
       "    <tr style=\"text-align: right;\">\n",
       "      <th></th>\n",
       "      <th>year</th>\n",
       "      <th>global_temp</th>\n",
       "      <th>seattle_temp</th>\n",
       "    </tr>\n",
       "  </thead>\n",
       "  <tbody>\n",
       "    <tr>\n",
       "      <th>0</th>\n",
       "      <td>1828</td>\n",
       "      <td>8.17</td>\n",
       "      <td>7.13</td>\n",
       "    </tr>\n",
       "    <tr>\n",
       "      <th>1</th>\n",
       "      <td>1829</td>\n",
       "      <td>7.94</td>\n",
       "      <td>6.80</td>\n",
       "    </tr>\n",
       "    <tr>\n",
       "      <th>2</th>\n",
       "      <td>1830</td>\n",
       "      <td>8.52</td>\n",
       "      <td>NaN</td>\n",
       "    </tr>\n",
       "    <tr>\n",
       "      <th>3</th>\n",
       "      <td>1831</td>\n",
       "      <td>7.64</td>\n",
       "      <td>NaN</td>\n",
       "    </tr>\n",
       "    <tr>\n",
       "      <th>4</th>\n",
       "      <td>1832</td>\n",
       "      <td>7.45</td>\n",
       "      <td>3.52</td>\n",
       "    </tr>\n",
       "    <tr>\n",
       "      <th>...</th>\n",
       "      <td>...</td>\n",
       "      <td>...</td>\n",
       "      <td>...</td>\n",
       "    </tr>\n",
       "    <tr>\n",
       "      <th>181</th>\n",
       "      <td>2009</td>\n",
       "      <td>9.51</td>\n",
       "      <td>8.02</td>\n",
       "    </tr>\n",
       "    <tr>\n",
       "      <th>182</th>\n",
       "      <td>2010</td>\n",
       "      <td>9.70</td>\n",
       "      <td>8.25</td>\n",
       "    </tr>\n",
       "    <tr>\n",
       "      <th>183</th>\n",
       "      <td>2011</td>\n",
       "      <td>9.52</td>\n",
       "      <td>7.35</td>\n",
       "    </tr>\n",
       "    <tr>\n",
       "      <th>184</th>\n",
       "      <td>2012</td>\n",
       "      <td>9.51</td>\n",
       "      <td>8.08</td>\n",
       "    </tr>\n",
       "    <tr>\n",
       "      <th>185</th>\n",
       "      <td>2013</td>\n",
       "      <td>9.61</td>\n",
       "      <td>9.95</td>\n",
       "    </tr>\n",
       "  </tbody>\n",
       "</table>\n",
       "<p>186 rows × 3 columns</p>\n",
       "</div>"
      ],
      "text/plain": [
       "     year  global_temp  seattle_temp\n",
       "0    1828         8.17          7.13\n",
       "1    1829         7.94          6.80\n",
       "2    1830         8.52           NaN\n",
       "3    1831         7.64           NaN\n",
       "4    1832         7.45          3.52\n",
       "..    ...          ...           ...\n",
       "181  2009         9.51          8.02\n",
       "182  2010         9.70          8.25\n",
       "183  2011         9.52          7.35\n",
       "184  2012         9.51          8.08\n",
       "185  2013         9.61          9.95\n",
       "\n",
       "[186 rows x 3 columns]"
      ]
     },
     "execution_count": 6,
     "metadata": {},
     "output_type": "execute_result"
    }
   ],
   "source": [
    "merged_df"
   ]
  },
  {
   "cell_type": "markdown",
   "metadata": {},
   "source": [
    "Line Graph without the Moving Average Column"
   ]
  },
  {
   "cell_type": "code",
   "execution_count": 7,
   "metadata": {},
   "outputs": [
    {
     "data": {
      "image/png": "[encoded data removed]",
      "text/plain": [
       "<Figure size 432x288 with 1 Axes>"
      ]
     },
     "metadata": {
      "needs_background": "light"
     },
     "output_type": "display_data"
    }
   ],
   "source": [
    "plt.plot(year, seattle_temp, label='Seattle Average Temp per year')\n",
    "plt.plot(year, global_temp, label='Global Average Temp per yer')\n",
    "\n",
    "plt.xlabel('Years')\n",
    "plt.ylabel('Temperature in Degrees Celcius')\n",
    "\n",
    "plt.title('Average Temperature Comparison')\n",
    "\n",
    "plt.legend()\n",
    "plt.show()"
   ]
  },
  {
   "cell_type": "markdown",
   "metadata": {},
   "source": [
    "---"
   ]
  },
  {
   "cell_type": "markdown",
   "metadata": {},
   "source": [
    "Create the Moving Average Column for Seattle Weather"
   ]
  },
  {
   "cell_type": "code",
   "execution_count": 8,
   "metadata": {},
   "outputs": [],
   "source": [
    "#Isolate  the Seattle Temperature into a Pandas Series \n",
    "seattle_series = merged_df['seattle_temp']\n",
    "\n",
    "################################\n",
    "##Calculate the Moving Average##\n",
    "################################\n",
    "\n",
    "\n",
    "\n",
    "### Sum Every 6th Column\n",
    "seattle_sum = seattle_series.groupby(seattle_series.index // 6).sum()\n",
    "\n",
    "### Find the Average of the sums \n",
    "seattle_moving_avg = seattle_sum / 6\n",
    "\n",
    "### Round the the nearest 2nd decimal place\n",
    "seattle_moving_avg = seattle_moving_avg.round(decimals=2)"
   ]
  },
  {
   "cell_type": "markdown",
   "metadata": {},
   "source": [
    "Create the Moving Average Column for Global Weather"
   ]
  },
  {
   "cell_type": "code",
   "execution_count": 9,
   "metadata": {},
   "outputs": [],
   "source": [
    "#Isolate  the Global Temperature into a Pandas Series \n",
    "global_series = merged_df['global_temp']\n",
    "\n",
    "################################\n",
    "##Calculate the Moving Average##\n",
    "################################\n",
    "\n",
    "\n",
    "\n",
    "### Sum Every 6th Column\n",
    "global_sum = global_series.groupby(global_series.index // 6).sum()\n",
    "\n",
    "### Find the Average of the sums \n",
    "global_moving_avg = global_sum / 6\n",
    "\n",
    "### Round the the nearest 2nd decimal place\n",
    "global_moving_avg = global_moving_avg.round(decimals=2)"
   ]
  },
  {
   "cell_type": "code",
   "execution_count": 10,
   "metadata": {},
   "outputs": [],
   "source": [
    "# Create a list to index the columns by\n",
    "year_list = [x for x in range(1825,2006,6)]\n",
    "\n",
    "sea_df = pd.DataFrame(seattle_moving_avg)\n",
    "glo_df = pd.DataFrame(global_moving_avg)\n",
    "\n",
    "# Add the new years list columns to their respective dataframes \n",
    "\n",
    "sea_df['years'] = pd.Series(year_list, index = sea_df.index)\n",
    "\n",
    "glo_df['years'] = pd.Series(year_list, index = glo_df.index) \n",
    "\n",
    "# Now change the index to the new column I just added\n",
    "\n",
    "sea_df = sea_df.set_index(sea_df['years'])\n",
    "\n",
    "glo_df = glo_df.set_index(glo_df['years'])\n",
    "\n",
    "# Now drop the extra columns from each of the DataFrames \n",
    "\n",
    "sea_df = sea_df.drop(columns=['years'])\n",
    "glo_df = glo_df.drop(columns=['years'])"
   ]
  },
  {
   "cell_type": "code",
   "execution_count": 11,
   "metadata": {},
   "outputs": [],
   "source": [
    "# Set the Variables for the next Graph\n",
    "\n",
    "axis_list = [x for x in range(1825,2006,6)]\n",
    "\n",
    "sea_move_df = sea_df['seattle_temp'] # Y Variable\n",
    "glo_move_df = glo_df['global_temp']  # Y Variable "
   ]
  },
  {
   "cell_type": "code",
   "execution_count": 12,
   "metadata": {},
   "outputs": [
    {
     "data": {
      "image/png": "[encoded data removed]",
      "text/plain": [
       "<Figure size 432x288 with 1 Axes>"
      ]
     },
     "metadata": {
      "needs_background": "light"
     },
     "output_type": "display_data"
    }
   ],
   "source": [
    "plt.plot(axis_list, sea_move_df, label='Seattle Moving Average Temp per year')\n",
    "plt.plot(axis_list, glo_move_df, label='Global Moving Average Temp per yer')\n",
    "\n",
    "plt.xlabel('Years')\n",
    "plt.ylabel('Temperature in Degrees C')\n",
    "\n",
    "plt.title('Moving Average Temperature Comparison')\n",
    "\n",
    "\n",
    "plt.legend()\n",
    "plt.show()"
   ]
  },
  {
   "cell_type": "code",
   "execution_count": 13,
   "metadata": {},
   "outputs": [
    {
     "data": {
      "image/png": "[encoded data removed]",
      "text/plain": [
       "<Figure size 432x288 with 1 Axes>"
      ]
     },
     "metadata": {
      "needs_background": "light"
     },
     "output_type": "display_data"
    }
   ],
   "source": [
    "# Plot a box graph to show how the data is spread\n",
    "\n",
    "sea_df['seattle_temp'].plot(kind='box');"
   ]
  },
  {
   "cell_type": "code",
   "execution_count": 14,
   "metadata": {},
   "outputs": [
    {
     "data": {
      "image/png": "[encoded data removed]",
      "text/plain": [
       "<Figure size 432x288 with 1 Axes>"
      ]
     },
     "metadata": {
      "needs_background": "light"
     },
     "output_type": "display_data"
    }
   ],
   "source": [
    "# Plot a box graph to show how the data is spread\n",
    "\n",
    "glo_df['global_temp'].plot(kind='box');"
   ]
  },
  {
   "cell_type": "markdown",
   "metadata": {},
   "source": [
    "### Observations"
   ]
  },
  {
   "cell_type": "markdown",
   "metadata": {},
   "source": [
    "<ol>\n",
    "    <li>Both Seattle and the global average temperature is going up over time.</li>\n",
    "    <li>The global temperature is higher that the temperature in seattle on average.</li>\n",
    "    <li>Seattle's average temperature has had the most variance from 4 to roughly 8 degrees.</li>\n",
    "    <li>Seattle has 2 outliers in the data set and the global data has 1. </li>\n",
    "</ol>    "
   ]
  }
 ],
 "metadata": {
  "kernelspec": {
   "display_name": "Python [conda env:DAND] *",
   "language": "python",
   "name": "conda-env-DAND-py"
  },
  "language_info": {
   "codemirror_mode": {
    "name": "ipython",
    "version": 3
   },
   "file_extension": ".py",
   "mimetype": "text/x-python",
   "name": "python",
   "nbconvert_exporter": "python",
   "pygments_lexer": "ipython3",
   "version": "3.8.2"
  }
 },
 "nbformat": 4,
 "nbformat_minor": 4
}
